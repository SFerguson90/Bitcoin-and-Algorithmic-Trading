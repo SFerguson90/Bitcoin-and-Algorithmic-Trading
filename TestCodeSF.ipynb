{
 "cells": [
  {
   "cell_type": "code",
   "execution_count": 14,
   "metadata": {},
   "outputs": [],
   "source": [
    "# Imports\n",
    "import os\n",
    "from dotenv import load_dotenv\n",
    "from pathlib import Path\n",
    "import json\n",
    "import numpy as np\n",
    "import pandas as pd\n",
    "import datetime as dt\n",
    "from datetime import datetime\n",
    "import alpaca_trade_api as tradeapi\n",
    "\n",
    "# Clearing Warnings\n",
    "import warnings\n",
    "warnings.filterwarnings(\"ignore\")"
   ]
  },
  {
   "cell_type": "code",
   "execution_count": 15,
   "metadata": {
    "scrolled": true
   },
   "outputs": [
    {
     "name": "stdout",
     "output_type": "stream",
     "text": [
      "<class 'str'>\n",
      "<class 'str'>\n",
      "<class 'str'>\n"
     ]
    }
   ],
   "source": [
    "# Pull API Keys from .env file\n",
    "\n",
    "# OR explicitly providing path to '.env'\n",
    "#env_path = Path('.') / '.env'\n",
    "#load_dotenv(dotenv_path=env_path)\n",
    "\n",
    "load_dotenv(verbose=True)\n",
    "alpaca_api_key = os.getenv(\"ALPACA_API_KEY\")\n",
    "alpaca_secret_key = os.getenv(\"ALPACA_SECRET_KEY\")\n",
    "polygon_api_key = os.getenv(\"POLYGON_API_KEY\")\n",
    "\n",
    "# Check that keys were pulled, should return: <class 'str'> three times\n",
    "print(type(alpaca_api_key))\n",
    "print(type(alpaca_secret_key))\n",
    "print(type(polygon_api_key))\n",
    "\n",
    "# Bring in Alpaca API\n",
    "api = tradeapi.REST(key_id=alpaca_api_key,\n",
    "                   secret_key=alpaca_secret_key)\n",
    "\n",
    "stream = tradeapi.StreamConn(key_id=alpaca_api_key,\n",
    "                   secret_key=alpaca_secret_key)"
   ]
  },
  {
   "cell_type": "code",
   "execution_count": 18,
   "metadata": {},
   "outputs": [
    {
     "data": {
      "text/plain": [
       "<coroutine object StreamConn.unsubscribe at 0x00000164ACDF8148>"
      ]
     },
     "execution_count": 18,
     "metadata": {},
     "output_type": "execute_result"
    }
   ],
   "source": [
    "stream.subscribe(channels=)"
   ]
  },
  {
   "cell_type": "code",
   "execution_count": null,
   "metadata": {},
   "outputs": [],
   "source": [
    "import websocket, json\n",
    "from config import *\n",
    "\n",
    "def on_open(ws):\n",
    "    print(\"opened\")\n",
    "    auth_data = {\n",
    "        \"action\": \"auth\",\n",
    "        \"params\": API_KEY\n",
    "    }\n",
    "\n",
    "    ws.send(json.dumps(auth_data))\n",
    "\n",
    "    channel_data = {\n",
    "        \"action\": \"subscribe\",\n",
    "        \"params\": TICKERS\n",
    "    }\n",
    "\n",
    "    ws.send(json.dumps(channel_data))\n",
    "\n",
    "\n",
    "def on_message(ws, message):\n",
    "    print(\"received a message\")\n",
    "    print(message)\n",
    "\n",
    "def on_close(ws):\n",
    "    print(\"closed connection\")\n",
    "\n",
    "socket = \"wss://alpaca.socket.polygon.io/stocks\"\n",
    "\n",
    "ws = websocket.WebSocketApp(socket, on_open=on_open, on_message=on_message, on_close=on_close)\n",
    "ws.run_forever()"
   ]
  },
  {
   "cell_type": "code",
   "execution_count": null,
   "metadata": {},
   "outputs": [],
   "source": []
  },
  {
   "cell_type": "code",
   "execution_count": 3,
   "metadata": {},
   "outputs": [],
   "source": [
    "# Trading Logs\n",
    "\n",
    "log_file = f'Automated_Strategy_{dt.datetime.now()}.log'\n",
    "\n",
    "######### THIS MAY BE NEEDED LATER TO CREATE A LOG FILE OF TRADES\n",
    "\n",
    "# recreating the log file\n",
    "#with open(log_file, 'w') as f:\n",
    "    #f.write('*** NEW LOG FILE ***\\n')\n",
    "    #f.write(str(dt.datetime.now()) + '\\n\\n\\n')\n",
    "\n",
    "\n",
    "#def logger_monitor(message, time=True, sep=True):\n",
    "    #''' \n",
    "    #Custom logger and monitor function.\n",
    "    #'''\n",
    "    #with open(log_file, 'a') as f:\n",
    "        #t = str(dt.datetime.now())\n",
    "        #msg = ''\n",
    "        #if time:\n",
    "            #msg += '\\n' + t + '\\n'\n",
    "        #if sep:\n",
    "            #msg += 80 * '=' + '\\n'\n",
    "        #msg += message + '\\n\\n'\n",
    "        # sends the message via the socket\n",
    "        #socket.send_string(msg)\n",
    "        # writes the message to the log file\n",
    "        #f.write(msg)"
   ]
  },
  {
   "cell_type": "code",
   "execution_count": 10,
   "metadata": {},
   "outputs": [],
   "source": [
    "tradeapi.StreamConn()"
   ]
  },
  {
   "cell_type": "code",
   "execution_count": null,
   "metadata": {},
   "outputs": [],
   "source": []
  }
 ],
 "metadata": {
  "kernelspec": {
   "display_name": "Python 3",
   "language": "python",
   "name": "python3"
  },
  "language_info": {
   "codemirror_mode": {
    "name": "ipython",
    "version": 3
   },
   "file_extension": ".py",
   "mimetype": "text/x-python",
   "name": "python",
   "nbconvert_exporter": "python",
   "pygments_lexer": "ipython3",
   "version": "3.7.9"
  }
 },
 "nbformat": 4,
 "nbformat_minor": 4
}
